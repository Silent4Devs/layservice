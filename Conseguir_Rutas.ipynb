{
 "cells": [
  {
   "cell_type": "markdown",
   "metadata": {},
   "source": [
    "CODIDO DE APOYO PARA PODER ENCONTRAR RUTAS EN TU COMPUTADORA"
   ]
  },
  {
   "cell_type": "code",
   "execution_count": 7,
   "metadata": {},
   "outputs": [
    {
     "name": "stdout",
     "output_type": "stream",
     "text": [
      "El archivo no existe en la ruta especificada.\n"
     ]
    }
   ],
   "source": [
    "import os\n",
    "\n",
    "file_path = 'C:/home/normam/Documentos/Laysphere/Guía Rápida Tabantaj.pptx'  # Depende de la ubicación en el equipo \n",
    "if os.path.isfile(file_path):\n",
    "\n",
    "    print(\"El archivo existe.\")\n",
    "\n",
    "else:\n",
    "\n",
    "    print(\"El archivo no existe en la ruta especificada.\")"
   ]
  }
 ],
 "metadata": {
  "kernelspec": {
   "display_name": "Python 3",
   "language": "python",
   "name": "python3"
  },
  "language_info": {
   "codemirror_mode": {
    "name": "ipython",
    "version": 3
   },
   "file_extension": ".py",
   "mimetype": "text/x-python",
   "name": "python",
   "nbconvert_exporter": "python",
   "pygments_lexer": "ipython3",
   "version": "3.10.12"
  }
 },
 "nbformat": 4,
 "nbformat_minor": 2
}
